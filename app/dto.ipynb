{
 "cells": [
  {
   "cell_type": "code",
   "execution_count": 19,
   "metadata": {},
   "outputs": [],
   "source": [
    "from typing import Any\n",
    "from sqlalchemy import select\n",
    "from database import session_factory\n",
    "from model import UserModel\n",
    "\n",
    "from schemas import UsersDTO"
   ]
  },
  {
   "cell_type": "code",
   "execution_count": 24,
   "metadata": {},
   "outputs": [
    {
     "name": "stdout",
     "output_type": "stream",
     "text": [
      "[<model.UserModel object at 0x000002A43162F750>, <model.UserModel object at 0x000002A431580E50>]\n",
      "{\"username\":\"LuisRowe\",\"email\":\"email@example.com\",\"password\":\"password\",\"role\":\"user\",\"id\":1}\n"
     ]
    }
   ],
   "source": [
    "with session_factory() as session:\n",
    "    query = (\n",
    "        select(UserModel).limit(2)\n",
    "    )\n",
    "    \n",
    "    res = session.execute(query)\n",
    "    result_orm = res.scalars().all()\n",
    "    \n",
    "    print(result_orm)\n",
    "    \n",
    "    result_dto = [UsersDTO.model_validate(row, from_attributes=True) for row in result_orm]\n",
    "    \n",
    "    print(result_dto[0].model_dump_json())"
   ]
  }
 ],
 "metadata": {
  "kernelspec": {
   "display_name": "venv",
   "language": "python",
   "name": "python3"
  },
  "language_info": {
   "codemirror_mode": {
    "name": "ipython",
    "version": 3
   },
   "file_extension": ".py",
   "mimetype": "text/x-python",
   "name": "python",
   "nbconvert_exporter": "python",
   "pygments_lexer": "ipython3",
   "version": "3.13.1"
  }
 },
 "nbformat": 4,
 "nbformat_minor": 2
}
